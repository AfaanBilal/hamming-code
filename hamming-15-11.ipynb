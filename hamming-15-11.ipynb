{
 "metadata": {
  "language_info": {
   "codemirror_mode": {
    "name": "ipython",
    "version": 3
   },
   "file_extension": ".py",
   "mimetype": "text/x-python",
   "name": "python",
   "nbconvert_exporter": "python",
   "pygments_lexer": "ipython3",
   "version": "3.8.5-final"
  },
  "orig_nbformat": 2,
  "kernelspec": {
   "name": "python3",
   "display_name": "Python 3",
   "language": "python"
  }
 },
 "nbformat": 4,
 "nbformat_minor": 2,
 "cells": [
  {
   "source": [
    "#\n",
    "# A simulation of Hamming (15, 11) ECC\n",
    "# https://en.wikipedia.org/wiki/Hamming_code\n",
    "#\n",
    "# https://afaan.dev\n",
    "# (c) Afaan Bilal\n",
    "#"
   ],
   "cell_type": "code",
   "metadata": {},
   "execution_count": null,
   "outputs": []
  },
  {
   "source": [
    "from functools import reduce\n",
    "\n",
    "# Pretty-print a 16-bit block\n",
    "def pp(m, title = ''):\n",
    "    print(title)\n",
    "    for i in range(16):\n",
    "        print(m[i], end=' ')\n",
    "        if (i + 1) % 4 == 0:\n",
    "            print()\n",
    "    print()\n",
    "\n",
    "# 11-bit message\n",
    "message = [1,0,0,1,1,0,1,0,0,1,1]\n",
    "\n",
    "# Reserved positions\n",
    "reserved = [0, 1, 2, 4, 8]\n",
    "\n",
    "# Create a 16-bit block\n",
    "bits = [0] * 16\n",
    "\n",
    "# Fill in the message\n",
    "mi = 0\n",
    "for i in range(16):\n",
    "    if i in reserved:\n",
    "        continue\n",
    "    bits[i] = message[mi]\n",
    "    mi += 1\n",
    "\n",
    "# Message block\n",
    "pp(bits, 'Message block:')\n",
    "\n",
    "# Calculate parity bits\n",
    "for i in range(1, 5):\n",
    "    # The block associated with this parity bit\n",
    "    block = [bits[j] for j in filter(lambda x: x & reserved[i], range(16))]\n",
    "    # Calcuate and set the parity bit\n",
    "    bits[reserved[i]] = reduce(lambda x, y: x ^ y, block)\n",
    "\n",
    "# Calculate the 0-bit\n",
    "bits[0] = reduce(lambda x, y: x ^ y, bits)\n",
    "\n",
    "# The final block\n",
    "pp(bits, 'Message with parity bits set:')\n"
   ],
   "cell_type": "code",
   "metadata": {},
   "execution_count": 1,
   "outputs": [
    {
     "output_type": "stream",
     "name": "stdout",
     "text": [
      "Message block:\n0 0 0 1 \n0 0 0 1 \n0 1 0 1 \n0 0 1 1 \n\nMessage with parity bits set:\n1 1 1 1 \n1 0 0 1 \n0 1 0 1 \n0 0 1 1 \n\n"
     ]
    }
   ]
  },
  {
   "cell_type": "code",
   "execution_count": 2,
   "metadata": {},
   "outputs": [],
   "source": [
    "# Reserved positions\n",
    "reserved = [0, 1, 2, 4, 8]\n",
    "\n",
    "# Fix the message (if bad)\n",
    "def fix_message(bits, failed):\n",
    "    # Can't fix if more than one bits are flipped\n",
    "    if not failed[0]:\n",
    "        print('Error: more than one bad bit. Cannot fix.')\n",
    "        return\n",
    "\n",
    "    # Find the bad bit\n",
    "    bad_bit = 0\n",
    "    for j in range(1, len(failed)):\n",
    "        if failed[j]:\n",
    "            bad_bit = bad_bit | j\n",
    "    print('Bad bit: ' + str(bad_bit))\n",
    "\n",
    "    # Flip the bad bit back to good value\n",
    "    bits[bad_bit] = +(not bits[bad_bit])\n",
    "    pp(bits, 'Fixed message:')\n",
    "\n",
    "# Process, display and fix (if required) the message\n",
    "def process_message(bits):\n",
    "    # Passed parity checks\n",
    "    failed = [False] * 9\n",
    "\n",
    "    # Calculate parities\n",
    "    for i in range(1, 5):\n",
    "        # The block associated with this parity bit\n",
    "        block = [bits[j] for j in filter(lambda x: x & reserved[i], range(16))]\n",
    "        # Check parity\n",
    "        failed[reserved[i]] = reduce(lambda x, y: x ^ y, block) != 0\n",
    "\n",
    "    # Last parity check (to detect more than 1 flips)\n",
    "    failed[0] = reduce(lambda x, y: x ^ y, bits) != 0\n",
    "\n",
    "    print('Parity checks:')\n",
    "    for i in range(5):\n",
    "        print('Check ' + str(i) + ': ' + str(not failed[i]))\n",
    "    if len([i for i in filter(lambda x: x, failed)]) == 0:\n",
    "        print('*** Good message ***\\n')\n",
    "        pp(bits, 'Good message:')\n",
    "    else:\n",
    "        print('*** Bad message  ***\\n')\n",
    "        fix_message(bits, failed)\n"
   ]
  },
  {
   "cell_type": "code",
   "execution_count": 3,
   "metadata": {},
   "outputs": [
    {
     "output_type": "stream",
     "name": "stdout",
     "text": [
      "Incoming message:\n1 1 1 1 \n1 0 0 1 \n0 1 0 1 \n0 0 1 1 \n\nParity checks:\nCheck 0: True\nCheck 1: True\nCheck 2: True\nCheck 3: True\nCheck 4: True\n*** Good message ***\n\nGood message:\n1 1 1 1 \n1 0 0 1 \n0 1 0 1 \n0 0 1 1 \n\n"
     ]
    }
   ],
   "source": [
    "# Incoming bits (Good message)\n",
    "bits = [1, 1, 1, 1, 1, 0, 0, 1, 0, 1, 0, 1, 0, 0, 1, 1]\n",
    "\n",
    "# Test incoming bits (Good message)\n",
    "pp(bits, 'Incoming message:')\n",
    "process_message(bits)"
   ]
  },
  {
   "cell_type": "code",
   "execution_count": 4,
   "metadata": {},
   "outputs": [
    {
     "output_type": "stream",
     "name": "stdout",
     "text": [
      "Incoming message:\n1 1 1 1 \n1 0 0 1 \n0 1 0 1 \n0 1 1 1 \n\nParity checks:\nCheck 0: False\nCheck 1: False\nCheck 2: True\nCheck 3: True\nCheck 4: False\n*** Bad message  ***\n\nBad bit: 13\nFixed message:\n1 1 1 1 \n1 0 0 1 \n0 1 0 1 \n0 0 1 1 \n\n"
     ]
    }
   ],
   "source": [
    "# Incoming bits (Bad message, 3rd-last bit flipped)\n",
    "bits = [1, 1, 1, 1, 1, 0, 0, 1, 0, 1, 0, 1, 0, 1, 1, 1]\n",
    "\n",
    "# Test incoming bits (Bad message)\n",
    "pp(bits, 'Incoming message:')\n",
    "process_message(bits)\n"
   ]
  },
  {
   "cell_type": "code",
   "execution_count": 5,
   "metadata": {},
   "outputs": [
    {
     "output_type": "stream",
     "name": "stdout",
     "text": [
      "Incoming message:\n1 1 1 0 \n1 0 0 1 \n0 1 0 1 \n0 1 1 1 \n\nParity checks:\nCheck 0: True\nCheck 1: True\nCheck 2: False\nCheck 3: True\nCheck 4: False\n*** Bad message  ***\n\nError: more than one bad bit. Cannot fix.\n"
     ]
    }
   ],
   "source": [
    "# Incoming bits (Bad message, 2 bits flipped: 4th and 3rd-last bit flipped)\n",
    "bits = [1, 1, 1, 0, 1, 0, 0, 1, 0, 1, 0, 1, 0, 1, 1, 1]\n",
    "\n",
    "# Test incoming bits (Bad message)\n",
    "pp(bits, 'Incoming message:')\n",
    "process_message(bits)"
   ]
  }
 ]
}